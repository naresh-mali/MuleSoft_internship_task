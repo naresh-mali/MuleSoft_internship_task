{
 "cells": [
  {
   "cell_type": "code",
   "execution_count": null,
   "id": "96d0be29",
   "metadata": {},
   "outputs": [],
   "source": [
    "import mysql.connector\n",
    "\n",
    "mydb = mysql.connector.connect(\n",
    "  host=\"localhost\",\n",
    "  user=\"nareshmali\",\n",
    "  password=\"naresh@26\",\n",
    "  auth_plugin=\"mysql_native_password\"\n",
    ")\n",
    "\n",
    "mycursor = mydb.cursor()\n",
    "\n",
    "mycursor.execute(\"CREATE DATABASE mulesoftdb\")\n",
    "\n",
    "mydb = mysql.connector.connect(\n",
    "  host=\"localhost\",\n",
    "  user=\"nareshmali\",\n",
    "  password=\"naresh@26\",\n",
    "  auth_plugin=\"mysql_native_password\",\n",
    "  database = \"mulesoftdb\"\n",
    ")\n",
    "\n",
    "mycursor.execute(\"CREATE TABLE movies (movies VARCHAR(255), actor VARCHAR(255), actress VARCHAR(255), director VARCHAR(255), year INTEGER\");\n",
    "\n",
    "sql = \"INSERT INTO movies (movies, actor, actress, director, year) VALUES (%s, %s, %s, %s, %s)\"\n",
    "\n",
    "val = (\"Angrezi Medium\", \"Irrfan Khan\", \"Kareena Kapoor\", \"Homi Adajania\", 2020)\n",
    "mycursor.execute(sql, val)\n",
    "print(mycursor.rowcount, \"record inserted.\")\n",
    "\n",
    "val = (\"Love Aaj Kal\", \"Kartik Aaryan\", \"Sara Ali Khan\", \"Imtiaz Ali\", 2020)\n",
    "mycursor.execute(sql, val)\n",
    "print(mycursor.rowcount, \"record inserted.\")\n",
    "\n",
    "val = (\"Hacked\", \"Mohit Malhotra\", \"Hina Khan\", \"Vikram Bhatt\", 2020)\n",
    "mycursor.execute(sql, val)\n",
    "mydb.commit()\n",
    "\n",
    "print(mycursor.rowcount, \"record inserted.\")\n",
    "\n",
    "mycursor.execute(\"SELECT * FROM movies\")\n",
    "\n",
    "myresult = mycursor.fetchall()\n",
    "\n",
    "for x in myresult:\n",
    "  print(x)\n",
    "\n",
    "mycursor.execute(\"SELECT actor FROM movies where year = 2020\")\n",
    "\n",
    "myresult = mycursor.fetchall()\n",
    "\n",
    "for x in myresult:\n",
    "  print(x)"
   ]
  }
 ],
 "metadata": {
  "kernelspec": {
   "display_name": "Python 3",
   "language": "python",
   "name": "python3"
  },
  "language_info": {
   "codemirror_mode": {
    "name": "ipython",
    "version": 3
   },
   "file_extension": ".py",
   "mimetype": "text/x-python",
   "name": "python",
   "nbconvert_exporter": "python",
   "pygments_lexer": "ipython3",
   "version": "3.8.8"
  }
 },
 "nbformat": 4,
 "nbformat_minor": 5
}
