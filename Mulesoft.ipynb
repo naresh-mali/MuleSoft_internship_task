{
 "cells": [
  {
   "cell_type": "code",
   "execution_count": 2,
   "id": "96d0be29",
   "metadata": {},
   "outputs": [
    {
     "name": "stdout",
     "output_type": "stream",
     "text": [
      "Requirement already satisfied: mysql in c:\\users\\naresh\\anaconda3\\lib\\site-packages (0.0.3)\n",
      "Requirement already satisfied: mysqlclient in c:\\users\\naresh\\anaconda3\\lib\\site-packages (from mysql) (2.0.3)\n",
      "Requirement already satisfied: mysql.connector in c:\\users\\naresh\\anaconda3\\lib\\site-packages (2.2.9)\n",
      "Requirement already satisfied: mysql-connector-python in c:\\users\\naresh\\anaconda3\\lib\\site-packages (8.0.26)\n",
      "Requirement already satisfied: protobuf>=3.0.0 in c:\\users\\naresh\\anaconda3\\lib\\site-packages (from mysql-connector-python) (3.17.3)\n",
      "Requirement already satisfied: six>=1.9 in c:\\users\\naresh\\anaconda3\\lib\\site-packages (from protobuf>=3.0.0->mysql-connector-python) (1.15.0)\n",
      "1 record inserted.\n",
      "1 record inserted.\n",
      "1 record inserted.\n",
      "('Angrezi Medium', 'Irrfan Khan', 'Kareena Kapoor', 'Homi Adajania', 2020)\n",
      "('Love Aaj Kal', 'Kartik Aaryan', 'Sara Ali Khan', 'Imtiaz Ali', 2020)\n",
      "('Hacked', 'Mohit Malhotra', 'Hina Khan', 'Vikram Bhatt', 2020)\n",
      "('Irrfan Khan',)\n",
      "('Kartik Aaryan',)\n",
      "('Mohit Malhotra',)\n"
     ]
    }
   ],
   "source": [
    "!pip install mysql\n",
    "!pip install mysql.connector\n",
    "!pip install mysql-connector-python\n",
    "import mysql\n",
    "import mysql.connector\n",
    "\n",
    "mydb = mysql.connector.connect(\n",
    "  host=\"localhost\",\n",
    "  user=\"root\",\n",
    "  password=\"naresh@26\",\n",
    "  auth_plugin=\"mysql_native_password\"\n",
    ")\n",
    "\n",
    "mycursor = mydb.cursor()\n",
    "mycursor.execute(\"DROP DATABASE mulesoftdb\")\n",
    "mycursor.execute(\"CREATE DATABASE mulesoftdb\")\n",
    "\n",
    "mydb = mysql.connector.connect(\n",
    "  host=\"localhost\",\n",
    "  user=\"root\",\n",
    "  password=\"naresh@26\",\n",
    "  auth_plugin=\"mysql_native_password\",\n",
    "  database = \"mulesoftdb\"\n",
    ")\n",
    "mycursor = mydb.cursor()\n",
    "mycursor.execute(\"CREATE TABLE movies (movies VARCHAR(255), actor VARCHAR(255), actress VARCHAR(255), director VARCHAR(255), year INTEGER)\");\n",
    "\n",
    "sql = \"INSERT INTO movies (movies, actor, actress, director, year) VALUES (%s, %s, %s, %s, %s)\"\n",
    "\n",
    "val = (\"Angrezi Medium\", \"Irrfan Khan\", \"Kareena Kapoor\", \"Homi Adajania\", 2020)\n",
    "mycursor.execute(sql, val)\n",
    "print(mycursor.rowcount, \"record inserted.\")\n",
    "\n",
    "val = (\"Love Aaj Kal\", \"Kartik Aaryan\", \"Sara Ali Khan\", \"Imtiaz Ali\", 2020)\n",
    "mycursor.execute(sql, val)\n",
    "print(mycursor.rowcount, \"record inserted.\")\n",
    "\n",
    "val = (\"Hacked\", \"Mohit Malhotra\", \"Hina Khan\", \"Vikram Bhatt\", 2020)\n",
    "mycursor.execute(sql, val)\n",
    "mydb.commit()\n",
    "\n",
    "print(mycursor.rowcount, \"record inserted.\")\n",
    "\n",
    "mycursor.execute(\"SELECT * FROM movies\")\n",
    "\n",
    "myresult = mycursor.fetchall()\n",
    "\n",
    "for x in myresult:\n",
    "  print(x)\n",
    "\n",
    "mycursor.execute(\"SELECT actor FROM movies where year = 2020\")\n",
    "\n",
    "myresult = mycursor.fetchall()\n",
    "\n",
    "for x in myresult:\n",
    "  print(x)"
   ]
  },
  {
   "cell_type": "code",
   "execution_count": null,
   "id": "1d866d50",
   "metadata": {},
   "outputs": [],
   "source": []
  }
 ],
 "metadata": {
  "kernelspec": {
   "display_name": "Python 3",
   "language": "python",
   "name": "python3"
  },
  "language_info": {
   "codemirror_mode": {
    "name": "ipython",
    "version": 3
   },
   "file_extension": ".py",
   "mimetype": "text/x-python",
   "name": "python",
   "nbconvert_exporter": "python",
   "pygments_lexer": "ipython3",
   "version": "3.8.8"
  }
 },
 "nbformat": 4,
 "nbformat_minor": 5
}
